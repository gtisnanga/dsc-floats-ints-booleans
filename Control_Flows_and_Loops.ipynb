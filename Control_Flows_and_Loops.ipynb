{
  "nbformat": 4,
  "nbformat_minor": 0,
  "metadata": {
    "colab": {
      "provenance": [],
      "include_colab_link": true
    },
    "kernelspec": {
      "name": "python3",
      "display_name": "Python 3"
    },
    "language_info": {
      "name": "python"
    }
  },
  "cells": [
    {
      "cell_type": "markdown",
      "metadata": {
        "id": "view-in-github",
        "colab_type": "text"
      },
      "source": [
        "<a href=\"https://colab.research.google.com/github/gtisnanga/dsc-floats-ints-booleans/blob/master/Control_Flows_and_Loops.ipynb\" target=\"_parent\"><img src=\"https://colab.research.google.com/assets/colab-badge.svg\" alt=\"Open In Colab\"/></a>"
      ]
    },
    {
      "cell_type": "markdown",
      "source": [
        "In Python, many built-in classes have the following functions that can be used to compare two values:\n",
        "\n"
      ],
      "metadata": {
        "id": "f3B2YW1fWb6B"
      }
    },
    {
      "cell_type": "markdown",
      "source": [
        "\n",
        "```python\n",
        "> greater than\n",
        "\n",
        ">= greater than or equal to\n",
        "\n",
        "< less than\n",
        "\n",
        "<= less than or equal to\n",
        "\n",
        "== equal to\n",
        "\n",
        "!= not equal\n",
        "\n",
        "```"
      ],
      "metadata": {
        "id": "gQvX3zqtmcs7"
      }
    },
    {
      "cell_type": "code",
      "execution_count": null,
      "metadata": {
        "colab": {
          "base_uri": "https://localhost:8080/"
        },
        "id": "nPRdcRKRWZpQ",
        "outputId": "d4caac71-f0b8-444a-c275-1dda795188e7"
      },
      "outputs": [
        {
          "output_type": "execute_result",
          "data": {
            "text/plain": [
              "False"
            ]
          },
          "metadata": {},
          "execution_count": 53
        }
      ],
      "source": [
        "\"1\" == 1\n",
        "# False"
      ]
    },
    {
      "cell_type": "code",
      "source": [
        "1 == 1\n",
        "# True"
      ],
      "metadata": {
        "id": "FGaF63FSWzHW",
        "colab": {
          "base_uri": "https://localhost:8080/"
        },
        "outputId": "320771ef-0116-4f2a-88c7-962858dfb852"
      },
      "execution_count": null,
      "outputs": [
        {
          "output_type": "execute_result",
          "data": {
            "text/plain": [
              "True"
            ]
          },
          "metadata": {},
          "execution_count": 3
        }
      ]
    },
    {
      "cell_type": "code",
      "source": [
        "1.0 == 1\n",
        "# True"
      ],
      "metadata": {
        "id": "UumLlmM_WwKm",
        "colab": {
          "base_uri": "https://localhost:8080/"
        },
        "outputId": "eaf4a75d-0b0e-4392-bafc-70d341abee5a"
      },
      "execution_count": null,
      "outputs": [
        {
          "output_type": "execute_result",
          "data": {
            "text/plain": [
              "True"
            ]
          },
          "metadata": {},
          "execution_count": 4
        }
      ]
    },
    {
      "cell_type": "markdown",
      "source": [
        "\n",
        "\n",
        "Python has the same logical operators you'll find in many other languages:\n",
        "\n",
        "and: and. Returns True if both statements are true.\n",
        "or: or. Returns True if one of the two statements is true.\n",
        "not: not. Coerces the data to its boolean equivalent, then reverses it (True becomes False, and vice versa).\n"
      ],
      "metadata": {
        "id": "9F2VgbXZW3wd"
      }
    },
    {
      "cell_type": "markdown",
      "source": [
        "# **Working with Lists in Python**\n"
      ],
      "metadata": {
        "id": "DVh6YBHrYQqc"
      }
    },
    {
      "cell_type": "markdown",
      "source": [
        "Learning Objectives:\n",
        "\n",
        "\n",
        "Use indexing to access elements in a list.\n",
        "\n",
        "Apply list methods to make changes to a list.\n",
        "\n",
        "Change elements of a list.\n",
        "\n",
        "Indexing to Access Elements:\n",
        "\n",
        "Lists in Python are ordered collections of items.\n",
        "\n",
        "Use square brackets [ ] and the index of an element to access it."
      ],
      "metadata": {
        "id": "RgRVjsJJYzzb"
      }
    },
    {
      "cell_type": "code",
      "source": [
        "my_list = [10, 20, 30, 40, 50]\n",
        "dir(my_list)\n",
        "#print(my_list[0])  # Output: 10\n",
        "#print(my_list[2])  # Output: 30\n"
      ],
      "metadata": {
        "id": "laXQuyd4Y_Er",
        "colab": {
          "base_uri": "https://localhost:8080/"
        },
        "outputId": "d99c69be-668b-476b-ab53-a0c31fbfc52d"
      },
      "execution_count": 2,
      "outputs": [
        {
          "output_type": "execute_result",
          "data": {
            "text/plain": [
              "['__add__',\n",
              " '__class__',\n",
              " '__class_getitem__',\n",
              " '__contains__',\n",
              " '__delattr__',\n",
              " '__delitem__',\n",
              " '__dir__',\n",
              " '__doc__',\n",
              " '__eq__',\n",
              " '__format__',\n",
              " '__ge__',\n",
              " '__getattribute__',\n",
              " '__getitem__',\n",
              " '__gt__',\n",
              " '__hash__',\n",
              " '__iadd__',\n",
              " '__imul__',\n",
              " '__init__',\n",
              " '__init_subclass__',\n",
              " '__iter__',\n",
              " '__le__',\n",
              " '__len__',\n",
              " '__lt__',\n",
              " '__mul__',\n",
              " '__ne__',\n",
              " '__new__',\n",
              " '__reduce__',\n",
              " '__reduce_ex__',\n",
              " '__repr__',\n",
              " '__reversed__',\n",
              " '__rmul__',\n",
              " '__setattr__',\n",
              " '__setitem__',\n",
              " '__sizeof__',\n",
              " '__str__',\n",
              " '__subclasshook__',\n",
              " 'append',\n",
              " 'clear',\n",
              " 'copy',\n",
              " 'count',\n",
              " 'extend',\n",
              " 'index',\n",
              " 'insert',\n",
              " 'pop',\n",
              " 'remove',\n",
              " 'reverse',\n",
              " 'sort']"
            ]
          },
          "metadata": {},
          "execution_count": 2
        }
      ]
    },
    {
      "cell_type": "code",
      "source": [
        "my_list=[10,20,30,40,50]\n",
        "print(my_list)\n",
        "my_list.append\n",
        "\n"
      ],
      "metadata": {
        "id": "wah7ex5b2mL2"
      },
      "execution_count": null,
      "outputs": []
    },
    {
      "cell_type": "code",
      "source": [
        "def add():\n",
        "  return 1+2\n",
        "print(add())"
      ],
      "metadata": {
        "id": "U5njgqq077YI",
        "outputId": "4a0befdc-6bbe-4a87-c0bf-989b35511809",
        "colab": {
          "base_uri": "https://localhost:8080/"
        }
      },
      "execution_count": 3,
      "outputs": [
        {
          "output_type": "stream",
          "name": "stdout",
          "text": [
            "3\n"
          ]
        }
      ]
    },
    {
      "cell_type": "code",
      "source": [],
      "metadata": {
        "id": "qCtSWj_Q-_8L"
      },
      "execution_count": null,
      "outputs": []
    },
    {
      "cell_type": "code",
      "source": [],
      "metadata": {
        "id": "ub-Ctjry_BIJ"
      },
      "execution_count": null,
      "outputs": []
    },
    {
      "cell_type": "markdown",
      "source": [
        "List Methods for Modifications:\n",
        "append(element): Add an element to the end of the list."
      ],
      "metadata": {
        "id": "dewuuPz4ZA56"
      }
    },
    {
      "cell_type": "code",
      "source": [
        "my_list.append(60)\n",
        "print(my_list)  # Output: [10, 20, 30, 40, 50, 60]\n"
      ],
      "metadata": {
        "id": "AzWKYQ6aZDpx",
        "colab": {
          "base_uri": "https://localhost:8080/"
        },
        "outputId": "596476bc-2d61-4c13-a9a6-a3308196823b"
      },
      "execution_count": null,
      "outputs": [
        {
          "output_type": "stream",
          "name": "stdout",
          "text": [
            "[10, 20, 30, 40, 50, 60]\n"
          ]
        }
      ]
    },
    {
      "cell_type": "markdown",
      "source": [
        "insert(index, element): Insert an element at a specific index."
      ],
      "metadata": {
        "id": "tmxd7oD0ZIlS"
      }
    },
    {
      "cell_type": "code",
      "source": [
        "my_list.insert(2, 25)\n",
        "print(my_list)  # Output: [10, 20, 25, 30, 40, 50, 60]\n"
      ],
      "metadata": {
        "id": "MJz-k7wRZK8S"
      },
      "execution_count": null,
      "outputs": []
    },
    {
      "cell_type": "markdown",
      "source": [
        "remove(element): Remove the first occurrence of an element."
      ],
      "metadata": {
        "id": "0rQaZK-hZOzS"
      }
    },
    {
      "cell_type": "code",
      "source": [
        "my_list.remove(30)\n",
        "print(my_list)  # Output: [10, 20, 25, 40, 50, 60]\n"
      ],
      "metadata": {
        "id": "fvKADhR5ZPeS"
      },
      "execution_count": null,
      "outputs": []
    },
    {
      "cell_type": "markdown",
      "source": [
        "Changing Elements:\n",
        "Directly assign a new value to a specific index to change an element."
      ],
      "metadata": {
        "id": "Z1PiMa7fZXBS"
      }
    },
    {
      "cell_type": "code",
      "source": [
        "my_list[1] = 15\n",
        "print(my_list)  # Output: [10, 15, 25, 40, 50, 60]\n"
      ],
      "metadata": {
        "id": "BcLjxNYpZXlq"
      },
      "execution_count": null,
      "outputs": []
    },
    {
      "cell_type": "markdown",
      "source": [
        "Use slicing to change multiple elements at once."
      ],
      "metadata": {
        "id": "WqJ3XhacZbFq"
      }
    },
    {
      "cell_type": "code",
      "source": [
        "my_list[2:4] = [35, 45]\n",
        "print(my_list)  # Output: [10, 15, 35, 45, 50, 60]"
      ],
      "metadata": {
        "id": "N4Lxg_x7ZdfC",
        "colab": {
          "base_uri": "https://localhost:8080/"
        },
        "outputId": "f83b58e1-44ec-4db0-e71e-2c4516a631b4"
      },
      "execution_count": null,
      "outputs": [
        {
          "output_type": "stream",
          "name": "stdout",
          "text": [
            "[10, 20, 35, 45, 50]\n"
          ]
        }
      ]
    },
    {
      "cell_type": "markdown",
      "source": [
        "**Summary:**\n",
        "Lists are versatile data structures in Python.\n",
        "Indexing allows access to individual elements.\n",
        "List methods enable modifications like appending, inserting, and removing.\n",
        "Elements can be changed directly or using slicing for multiple changes."
      ],
      "metadata": {
        "id": "xqs8YA6nZg66"
      }
    },
    {
      "cell_type": "markdown",
      "source": [
        "# **Working with Dictionaries in Python**"
      ],
      "metadata": {
        "id": "bu53zOk6Z-hI"
      }
    },
    {
      "cell_type": "markdown",
      "source": [
        "---\n",
        "\n",
        "### Working with Dictionaries in Python\n",
        "\n",
        "#### Learning Objectives:\n",
        "\n",
        "1. Assign values in a dictionary.\n",
        "2. Access keys and values in a dictionary.\n",
        "\n",
        "#### Assigning Values in a Dictionary:\n",
        "\n",
        "- Dictionaries in Python are collections of key-value pairs.\n",
        "- Use curly braces `{ }` to define a dictionary and specify key-value pairs."
      ],
      "metadata": {
        "id": "LT677DGEsJBq"
      }
    },
    {
      "cell_type": "code",
      "source": [
        "  my_dict = {'name': 'John', 'age': 30, 'city': 'New York'}"
      ],
      "metadata": {
        "id": "WINt_FGOtyf9"
      },
      "execution_count": null,
      "outputs": []
    },
    {
      "cell_type": "markdown",
      "source": [
        "- Use the `keys()` method to get a list of all keys in the dictionary."
      ],
      "metadata": {
        "id": "6d21bZSxuGrD"
      }
    },
    {
      "cell_type": "code",
      "source": [
        "  keys_list = my_dict.keys()\n",
        "  print(keys_list)  # Output: dict_keys(['name', 'age', 'city'])"
      ],
      "metadata": {
        "id": "KKk6CH0JuJ-4"
      },
      "execution_count": null,
      "outputs": []
    },
    {
      "cell_type": "markdown",
      "source": [
        "- Use the `values()` method to get a list of all values in the dictionary."
      ],
      "metadata": {
        "id": "BbjMa-CJuM08"
      }
    },
    {
      "cell_type": "code",
      "source": [
        "  values_list = my_dict.values()\n",
        "  print(values_list)  # Output: dict_values(['John', 30, 'New York'])"
      ],
      "metadata": {
        "id": "2lYH9iZuuQib"
      },
      "execution_count": null,
      "outputs": []
    },
    {
      "cell_type": "markdown",
      "source": [
        "#### Summary:\n",
        "\n",
        "- Dictionaries in Python store data in key-value pairs.\n",
        "- Keys are unique and immutable (strings, numbers, etc.).\n",
        "- Values can be of any data type.\n",
        "- Use keys to access corresponding values.\n",
        "- Methods like `keys()` and `values()` provide access to keys and values, respectively.\n",
        "\n",
        "---\n"
      ],
      "metadata": {
        "id": "Nh7b92RbuS3j"
      }
    },
    {
      "cell_type": "markdown",
      "source": [
        "# **Different Kinds of Loops in Python**"
      ],
      "metadata": {
        "id": "uyXBaok5ahSx"
      }
    },
    {
      "cell_type": "markdown",
      "source": [
        "\n",
        "### Different Kinds of Loops in Python\n",
        "\n",
        "#### 1. `for` Loop:\n",
        "\n",
        "- Used to iterate over a sequence (such as a list, tuple, dictionary keys, or a range of numbers).\n",
        "\n",
        "- Syntax:\n",
        "  ```python\n",
        "  for item in sequence:\n",
        "      # Code block to be executed for each item\n",
        "  ```\n"
      ],
      "metadata": {
        "id": "ENLF1Bw2vQnw"
      }
    },
    {
      "cell_type": "code",
      "source": [
        "#### Example:\n",
        "fruits = ['apple', 'banana', 'cherry']\n",
        "for fruit in fruits:\n",
        "    print(fruit)"
      ],
      "metadata": {
        "colab": {
          "base_uri": "https://localhost:8080/"
        },
        "id": "a-7x79zdvZRX",
        "outputId": "c7b1b295-1807-400e-f41d-b9cc1cedf04f"
      },
      "execution_count": null,
      "outputs": [
        {
          "output_type": "stream",
          "name": "stdout",
          "text": [
            "apple\n",
            "banana\n",
            "cherry\n"
          ]
        }
      ]
    },
    {
      "cell_type": "markdown",
      "source": [
        "\n",
        "#### 2. `while` Loop:\n",
        "\n",
        "- Executes a block of code as long as a specified condition is true.\n",
        "- Syntax:\n",
        "  ```python\n",
        "  while condition:\n",
        "      # Code block to be executed as long as the condition is true\n",
        "  ```\n"
      ],
      "metadata": {
        "id": "aY0l4te1vqm_"
      }
    },
    {
      "cell_type": "markdown",
      "source": [
        "#### Example:"
      ],
      "metadata": {
        "id": "W9WjfvCqvv2a"
      }
    },
    {
      "cell_type": "code",
      "source": [
        "num = 1\n",
        "while num <= 5:\n",
        "    print(num)\n",
        "    num += 1"
      ],
      "metadata": {
        "id": "uVnW3pdIvt7Y"
      },
      "execution_count": null,
      "outputs": []
    },
    {
      "cell_type": "markdown",
      "source": [
        "\n",
        "\n",
        "#### 3. Nested Loops:\n",
        "\n",
        "- Using one loop inside another loop.\n",
        "- Often used for iterating over multidimensional data structures (like lists of lists).\n",
        "- Syntax:\n",
        "  ```python\n",
        "  for item in sequence:\n",
        "      for subitem in item:\n",
        "          # Code block to be executed for each subitem\n",
        "  ```"
      ],
      "metadata": {
        "id": "JNntb9KXv2QY"
      }
    },
    {
      "cell_type": "markdown",
      "source": [
        "#### Example:"
      ],
      "metadata": {
        "id": "oRNmWULbv5KG"
      }
    },
    {
      "cell_type": "code",
      "source": [
        "matrix = [[1, 2, 3], [4, 5, 6], [7, 8, 9]]\n",
        "for row in matrix:\n",
        "    for num in row:\n",
        "        print(num)"
      ],
      "metadata": {
        "id": "lOGc3KVDv7TG"
      },
      "execution_count": null,
      "outputs": []
    },
    {
      "cell_type": "markdown",
      "source": [
        "#### Summary:\n",
        "\n",
        "- `for` loop iterates over a sequence.\n",
        "- `while` loop executes as long as a condition is true.\n",
        "- Nested loops are used for multidimensional data structures.\n",
        "\n",
        "---\n"
      ],
      "metadata": {
        "id": "YKgMEkx-aHuZ"
      }
    },
    {
      "cell_type": "markdown",
      "source": [
        "# **Looping Over Collections: Lists & Dictionaries**"
      ],
      "metadata": {
        "id": "zJvhsx3-a_VH"
      }
    },
    {
      "cell_type": "markdown",
      "source": [
        "---\n",
        "\n",
        "### Looping Over Collections: Lists & Dictionaries\n",
        "\n",
        "#### 1. Looping Over Lists:\n",
        "\n",
        "- Use a `for` loop to iterate over each element in a list."
      ],
      "metadata": {
        "id": "iWUpDtLowGU1"
      }
    },
    {
      "cell_type": "markdown",
      "source": [
        "\n",
        "- Syntax:\n",
        "  ```python\n",
        "  for item in list_name:\n",
        "      # Code block to be executed for each item\n",
        "  ```"
      ],
      "metadata": {
        "id": "2aAzeWfLwW39"
      }
    },
    {
      "cell_type": "markdown",
      "source": [
        "#### Example:"
      ],
      "metadata": {
        "id": "Y8-mGnTxwXZ1"
      }
    },
    {
      "cell_type": "code",
      "source": [
        "fruits = ['apple', 'banana', 'cherry']\n",
        "for fruit in fruits:\n",
        "    print(fruit)"
      ],
      "metadata": {
        "id": "eOTMuBZYwbpt"
      },
      "execution_count": null,
      "outputs": []
    },
    {
      "cell_type": "markdown",
      "source": [
        "#### 2. Looping Over Dictionaries:\n",
        "\n",
        "- Use a `for` loop to iterate over keys, values, or key-value pairs in a dictionary.\n",
        "- Syntax for keys:\n",
        "  ```python\n",
        "  for key in dict_name:\n",
        "      # Code block to be executed for each key\n",
        "  ```\n",
        "\n",
        "- Syntax for values:\n",
        "  ```python\n",
        "  for value in dict_name.values():\n",
        "      # Code block to be executed for each value\n",
        "  ```\n",
        "\n",
        "\n",
        "  - Syntax for key-value pairs:\n",
        "  ```python\n",
        "  for key, value in dict_name.items():\n",
        "      # Code block to be executed for each key-value pair\n",
        "  ```"
      ],
      "metadata": {
        "id": "HBxpFx14wkUd"
      }
    },
    {
      "cell_type": "markdown",
      "source": [
        "#### Example:\n"
      ],
      "metadata": {
        "id": "5MLTt7xpwpwU"
      }
    },
    {
      "cell_type": "code",
      "source": [
        "student_scores = {'John': 85, 'Emma': 92, 'Tom': 78}\n",
        "for name, score in student_scores.items():\n",
        "    print(f\"{name}'s score is {score}\")"
      ],
      "metadata": {
        "id": "6FF3vAJXwr4k"
      },
      "execution_count": null,
      "outputs": []
    },
    {
      "cell_type": "markdown",
      "source": [
        "# **Break and continue**"
      ],
      "metadata": {
        "id": "FE2mr-5CbesQ"
      }
    },
    {
      "cell_type": "markdown",
      "source": [
        "#### 1. `break` Statement:\n",
        "\n",
        "- Used to exit a loop prematurely based on a certain condition.\n",
        "- Syntax:\n",
        "  ```python\n",
        "  while condition:\n",
        "      if break_condition:\n",
        "          break\n",
        "      # Code block to be executed as long as the condition is true\n",
        "  ```"
      ],
      "metadata": {
        "id": "YskUQFz9wwiU"
      }
    },
    {
      "cell_type": "markdown",
      "source": [
        "#### Example:\n"
      ],
      "metadata": {
        "id": "Y2RCFKhIw0g8"
      }
    },
    {
      "cell_type": "code",
      "source": [
        "num = 1\n",
        "while num <= 5:\n",
        "    print(num)\n",
        "    if num == 3:\n",
        "        break\n",
        "    num += 1"
      ],
      "metadata": {
        "id": "ZcE2CS3iwyzc"
      },
      "execution_count": null,
      "outputs": []
    },
    {
      "cell_type": "markdown",
      "source": [
        "\n",
        "#### 2. `continue` Statement:\n",
        "\n",
        "- Skips the rest of the code inside a loop for the current iteration if a certain condition is met.\n",
        "- Syntax:\n",
        "  ```python\n",
        "  while condition:\n",
        "      if continue_condition:\n",
        "          continue\n",
        "      # Code block to be executed for each iteration except the skipped ones\n",
        "  ```\n"
      ],
      "metadata": {
        "id": "k60G4pX-w4Wj"
      }
    },
    {
      "cell_type": "markdown",
      "source": [
        "\n",
        "#### Example:"
      ],
      "metadata": {
        "id": "Y2Gj0mSgw6Zd"
      }
    },
    {
      "cell_type": "code",
      "source": [
        "num = 0\n",
        "while num < 5:\n",
        "    num += 1\n",
        "    if num == 3:\n",
        "        continue\n",
        "    print(num)"
      ],
      "metadata": {
        "id": "IEodr2Gaw8Pk"
      },
      "execution_count": null,
      "outputs": []
    },
    {
      "cell_type": "markdown",
      "source": [
        "\n",
        "\n",
        "#### Summary:\n",
        "\n",
        "- `while` loops execute as long as a condition is true.\n",
        "- `break` statement exits the loop prematurely.\n",
        "- `continue` statement skips the current iteration and proceeds to the next one.\n",
        "\n",
        "---\n",
        "\n",
        "These concepts are crucial for controlling the flow of execution within loops, especially in scenarios where you need to stop or skip iterations based on specific conditions in data science tasks."
      ],
      "metadata": {
        "id": "NbuU1Ge8blM2"
      }
    }
  ]
}